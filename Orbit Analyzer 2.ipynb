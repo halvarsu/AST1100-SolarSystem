{
 "cells": [
  {
   "cell_type": "code",
   "execution_count": 1,
   "metadata": {
    "collapsed": false
   },
   "outputs": [],
   "source": [
    "from LambertSolarSystem import LambertSolarSystem\n",
    "import matplotlib.pyplot as plt\n",
    "from mpl_toolkits.mplot3d import Axes3D \n",
    "from PyKEP import AU, DAY2SEC, DAY2YEAR, MU_SUN, epoch\n",
    "from PyKEP.orbit_plots import plot_planet, plot_lambert\n",
    "import PyKEP as pkp\n",
    "import numpy as np\n",
    "from scipy.optimize import brent, newton\n",
    "\n",
    "\n",
    "system = LambertSolarSystem(87464)\n",
    "\n",
    "posFunc = system.getPositionsFunction()\n",
    "velFunc = system.getVelocityFunction()"
   ]
  },
  {
   "cell_type": "markdown",
   "metadata": {},
   "source": [
    " # finds the optimal transfer between the planets\n",
    " Takes a start value t and two planets\n"
   ]
  },
  {
   "cell_type": "code",
   "execution_count": 4,
   "metadata": {
    "collapsed": true
   },
   "outputs": [],
   "source": [
    "# ----------------------- First init ---------------------------------------------------\n",
    "SEC2YEAR = 1./DAY2YEAR*DAY2SEC\n",
    "t = 16.784431483\n",
    "planetsPos0 = posFunc(t)[:]\n",
    "planetsVel0 = velFunc(t)[:]\n",
    "\n",
    "A = 4; B = 5; C = 0\n",
    "planets = np.array((A,B,C))\n",
    "# Add 3. dimension\n",
    "pos0 = np.r_[planetsPos0, [np.zeros(7)]]\n",
    "vel0 = np.r_[planetsVel0, [np.zeros(7)]]\n",
    "rA = pos0[:,A] * AU\n",
    "vA = vel0[:,A] * AU / SEC2YEAR\n",
    "rB = pos0[:,B] * AU\n",
    "vB = vel0[:,B] * AU / SEC2YEAR\n",
    "rC = pos0[:,C] * AU\n",
    "vC = vel0[:,C] * AU / SEC2YEAR\n",
    "\n",
    "mu_star = system.starMass * MU_SUN\n",
    "mu_planet = system.mass[planets]  * MU_SUN\n",
    "radius = system.radius[planets] * 1000\n",
    "safe_radius = radius *1.2\n",
    "\n",
    "planetA = pkp.planet.keplerian(epoch(0), rA, vA, mu_star, mu_planet[0], radius[0], safe_radius[0], 'A')\n",
    "planetB = pkp.planet.keplerian(epoch(0), rB, vB, mu_star, mu_planet[1], radius[1], safe_radius[1], 'B')\n",
    "planetC = pkp.planet.keplerian(epoch(0), rC, vC, mu_star, mu_planet[2], radius[2], safe_radius[2], 'C')"
   ]
  },
  {
   "cell_type": "code",
   "execution_count": 71,
   "metadata": {
    "collapsed": false
   },
   "outputs": [
    {
     "name": "stdout",
     "output_type": "stream",
     "text": [
      "27664\n",
      "7071.86241826\n",
      "(0.17200000000000024, 3.7360000000000002, 6.0800000000000001)\n"
     ]
    }
   ],
   "source": [
    "norm = np.linalg.norm\n",
    "res = 0.008\n",
    "\n",
    "times0 = np.arange(-0.1,0.2,res)\n",
    "times1 = np.arange(3.6,3.82,res)\n",
    "times2 = np.arange(6.,6.2,res)\n",
    "\n",
    "def f(r_p, ain, aout, angle):\n",
    "    return np.arcsin(ain/(ain+r_p)) + np.arcsin(ain/ain+r_p) - angle\n",
    "\n",
    "def f2(r_p, v2in, v2out, angle):\n",
    "    a = np.arcsin(1/(1+v2in*r_p)) \n",
    "    b = np.arcsin(1/(1+v2out*r_p)) \n",
    "    return a + b - angle\n",
    "def f3(r, ain, aout, angle):\n",
    "    a = ain*np.sqrt(1-(aout**2/(aout+r)**2))/(ain+r)\n",
    "    b = aout*np.sqrt(1-(ain**2/(ain+r)**2))/(aout+r)\n",
    "    c = np.sin(angle)\n",
    "    return a + b - c\n",
    "                              \n",
    "print len(times0)*len(times1)*len(times2)\n",
    "def angle(vin, vout):\n",
    "    return np.arccos(np.dot(vin,vout)/(np.linalg.norm(vin)*np.linalg.norm(vout)))\n",
    "vel_list = []\n",
    "t_list = []\n",
    "for T0 in times0:\n",
    "    for T1 in times1:\n",
    "        for T2 in times2:\n",
    "            \n",
    "            t0 = epoch(T0/DAY2YEAR)\n",
    "            t1 = epoch((T0+T1)/DAY2YEAR)\n",
    "            t2 = epoch((T0+T1+T2)/DAY2YEAR)\n",
    "            dt1 = (t1.mjd2000 - t0.mjd2000)*DAY2SEC\n",
    "            dt2 = (t2.mjd2000 - t1.mjd2000)*DAY2SEC\n",
    "            \n",
    "            r1, v1 = planetA.eph(t0)\n",
    "            r2, v2 = planetB.eph(t1)\n",
    "            r3, v3 = planetC.eph(t2)\n",
    "    \n",
    "            l1    = pkp.lambert_problem(r1,r2,dt1,mu_star)\n",
    "            vA    = np.array(l1.get_v1()[0]) \n",
    "            vBin  = np.array(l1.get_v2()[0])\n",
    "            \n",
    "            l2    = pkp.lambert_problem(r2,r3,dt2,mu_star)\n",
    "            vBout = np.array(l2.get_v1()[0])\n",
    "            vC    = np.array(l2.get_v2()[0])\n",
    "            \n",
    "     \n",
    "            #vBin_r  = vBin - v2\n",
    "            #vBout_r = vBout - v2\n",
    "            #ain = 1/np.dot(vBin_r, vBin_r)\n",
    "            #aout = 1/np.dot(vBout_r, vBout_r)\n",
    "            #vr2in  = np.dot(vBin_r, vBin_r) #Velocity relative to planet squared\n",
    "            #vr2out = np.dot(vBout_r, vBout_r)\n",
    "            #ang = angle(vBin_r, vBout_r)\n",
    "            prnt = False\n",
    "         \n",
    "            vel_list.append(np.linalg.norm(vBin - vBout) +norm(vA-v1)+norm(vC-v3))\n",
    "            t_list.append((T0,T1,T2))\n",
    "            #rp = brent(f2,  args = (vr2in,vr2out,ang))                \n",
    "            #rp = brent(f3, args = (ain,aout,ang))   \n",
    "            #rp = brent(f, args = (ain,aout,ang))   \n",
    "            if prnt:\n",
    "                print ' ======================'\n",
    "                print vBin #vBin_r\n",
    "                print vBout#_r\n",
    "                print v2   #\n",
    "                print r2 \n",
    "                print rp\n",
    "                print f3(0, ain, aout, ang)\n",
    "            \n",
    "\n",
    "            \n",
    "print np.amin(vel_list)\n",
    "print t_list[np.argmin(vel_list)]\n",
    "               "
   ]
  },
  {
   "cell_type": "code",
   "execution_count": 2,
   "metadata": {
    "collapsed": false
   },
   "outputs": [
    {
     "ename": "NameError",
     "evalue": "name 'planetA' is not defined",
     "output_type": "error",
     "traceback": [
      "\u001b[0;31m---------------------------------------------------------------------------\u001b[0m",
      "\u001b[0;31mNameError\u001b[0m                                 Traceback (most recent call last)",
      "\u001b[0;32m<ipython-input-2-2d26d658a8d0>\u001b[0m in \u001b[0;36m<module>\u001b[0;34m()\u001b[0m\n\u001b[1;32m     13\u001b[0m \u001b[0;34m\u001b[0m\u001b[0m\n\u001b[1;32m     14\u001b[0m \u001b[0;34m\u001b[0m\u001b[0m\n\u001b[0;32m---> 15\u001b[0;31m \u001b[0mr1\u001b[0m\u001b[0;34m,\u001b[0m \u001b[0mv1\u001b[0m \u001b[0;34m=\u001b[0m \u001b[0mplanetA\u001b[0m\u001b[0;34m.\u001b[0m\u001b[0meph\u001b[0m\u001b[0;34m(\u001b[0m\u001b[0mt1\u001b[0m\u001b[0;34m)\u001b[0m\u001b[0;34m\u001b[0m\u001b[0m\n\u001b[0m\u001b[1;32m     16\u001b[0m \u001b[0mr2\u001b[0m\u001b[0;34m,\u001b[0m \u001b[0mv2\u001b[0m \u001b[0;34m=\u001b[0m \u001b[0mplanetB\u001b[0m\u001b[0;34m.\u001b[0m\u001b[0meph\u001b[0m\u001b[0;34m(\u001b[0m\u001b[0mt2\u001b[0m\u001b[0;34m)\u001b[0m\u001b[0;34m\u001b[0m\u001b[0m\n\u001b[1;32m     17\u001b[0m \u001b[0mr3\u001b[0m\u001b[0;34m,\u001b[0m \u001b[0mv3\u001b[0m \u001b[0;34m=\u001b[0m \u001b[0mplanetC\u001b[0m\u001b[0;34m.\u001b[0m\u001b[0meph\u001b[0m\u001b[0;34m(\u001b[0m\u001b[0mt3\u001b[0m\u001b[0;34m)\u001b[0m\u001b[0;34m\u001b[0m\u001b[0m\n",
      "\u001b[0;31mNameError\u001b[0m: name 'planetA' is not defined"
     ]
    }
   ],
   "source": [
    "fig = plt.figure()\n",
    "ax = fig.gca(projection = '3d')\n",
    "T1 = 0.172\n",
    "T2 = 3.73 \n",
    "T3 = 6.08\n",
    "\n",
    "t1 = epoch((T1)/DAY2YEAR)\n",
    "t2 = epoch((T1+T2)/DAY2YEAR)\n",
    "t3 = epoch((T1+T2+T3)/DAY2YEAR)\n",
    "dt1 = (t2.mjd2000 - t1.mjd2000)*DAY2SEC\n",
    "dt2 = (t3.mjd2000 - t2.mjd2000)*DAY2SEC\n",
    "\n",
    "\n",
    "\n",
    "r1, v1 = planetA.eph(t1)\n",
    "r2, v2 = planetB.eph(t2)\n",
    "r3, v3 = planetC.eph(t3)\n",
    "\n",
    "l1 = pkp.lambert_problem(r1,r2,dt1,mu_star)\n",
    "l2 = pkp.lambert_problem(r2,r3,dt2,mu_star)\n",
    "print norm(np.array(l1.get_v1())-np.array(v1))\n",
    "\n",
    "\n",
    "p1 = plot_planet(planetA, t0 = t1, legend = True, units = AU, ax = ax)\n",
    "plot_planet(planetB, t0 = t2, legend = True, units = AU, ax = ax)\n",
    "plot_planet(planetC, t0 = t3, legend = True, units = AU, ax = ax)\n",
    "\n",
    "for sol in range(l1.get_Nmax()+1):\n",
    "    plot_lambert(l1, sol = sol, legend=True, units =AU, ax=ax)\n",
    "\n",
    "for sol in range(l2.get_Nmax()+1):\n",
    "    plot_lambert(l2, sol = sol, legend=True, units =AU, ax=ax)\n",
    "plt.axis('equal')\n",
    "ax.set_top_view()\n",
    "plt.show()"
   ]
  },
  {
   "cell_type": "code",
   "execution_count": null,
   "metadata": {
    "collapsed": true
   },
   "outputs": [],
   "source": []
  },
  {
   "cell_type": "code",
   "execution_count": 5,
   "metadata": {
    "collapsed": false
   },
   "outputs": [
    {
     "name": "stdout",
     "output_type": "stream",
     "text": [
      "min v 18602.5461883\n",
      "optimal time use: 4.0\n",
      "min v 23734.531779\n",
      "[ 13499.2814126   -4786.00929226      0.        ] [-9915.52600023 -8668.63631401     0.        ]\n",
      "optimal time use: 2.09480948095\n"
     ]
    }
   ],
   "source": [
    "       \n",
    "            \n",
    "res = 10000\n",
    "time_array = np.linspace(0.2,4,res)\n",
    "time_use_arr = np.zeros_like(time_array)\n",
    "v_arr1 = np.zeros_like(time_array)\n",
    "vBin_arr = np.zeros((res,3))\n",
    "# ----------------------Find best GA-times ----------------------\n",
    "\n",
    "for j,time_use in enumerate(time_array):\n",
    "    t1 = epoch(0)            #relative to t0\n",
    "    t2 = epoch(time_use/DAY2YEAR)   #relative to t0\n",
    "    dt = (t2.mjd2000 - t1.mjd2000)*DAY2SEC\n",
    "\n",
    "\n",
    "    r1, v1 = planetA.eph(t1)\n",
    "    r2, v2 = planetB.eph(t2)\n",
    "    \n",
    "    l = pkp.lambert_problem(r1,r2,dt,mu_star)\n",
    "\n",
    "    vA = l.get_v1()\n",
    "    vB = np.array(l.get_v2())\n",
    "    vel =  np.linalg.norm(vA) \n",
    "    time_use_arr[j] = time_use\n",
    "    v_arr1[j] =  vel\n",
    "    vBin_arr[j] = vB\n",
    "\n",
    "\n",
    "best_v = np.amin(v_arr1)\n",
    "print 'min v' ,best_v\n",
    "\n",
    "i = np.argmin(v_arr1)\n",
    "vBin = vBin_arr[i]\n",
    "\n",
    "optimal_time1 = time_use_arr[i]\n",
    "print 'optimal time use:', optimal_time1\n",
    "\n",
    "\n",
    "time_array = np.linspace(2,8,res)\n",
    "time_use_arr = np.zeros_like(time_array)\n",
    "v_arr2 = np.zeros_like(time_array)\n",
    "vBout_arr = np.zeros((res,3))\n",
    "\n",
    "for j,time_use in enumerate(time_array):\n",
    "    t1 = epoch(optimal_time1)            #relative to t0\n",
    "    t2 = epoch((optimal_time1+time_use)/DAY2YEAR)   #relative to t0\n",
    "    dt = (t2.mjd2000 - t1.mjd2000)*DAY2SEC\n",
    "\n",
    "\n",
    "    r1, v1 = planetB.eph(t1)\n",
    "    r2, v2 = planetC.eph(t2)\n",
    "    \n",
    "    l = pkp.lambert_problem(r1,r2,dt,mu_star)\n",
    "    \n",
    "    vB = np.array(l.get_v1()[0])\n",
    "    #vC = l.get_v2()\n",
    "    vel =  np.linalg.norm(vB-vBin)\n",
    "    #print vB\n",
    "\n",
    "    vBout_arr[j] = vB\n",
    "    \n",
    "    time_use_arr[j] = time_use\n",
    "    v_arr2[j] =  vel\n",
    "\n",
    "best_v = np.amin(v_arr2)\n",
    "print 'min v' ,best_v\n",
    "\n",
    "i = np.argmin(v_arr2)\n",
    "\n",
    "vBout = vBout_arr[i]\n",
    "print vBin, vBout\n",
    "optimal_time2 = time_use_arr[i]\n",
    "print 'optimal time use:', optimal_time2"
   ]
  },
  {
   "cell_type": "code",
   "execution_count": null,
   "metadata": {
    "collapsed": true
   },
   "outputs": [],
   "source": []
  },
  {
   "cell_type": "code",
   "execution_count": null,
   "metadata": {
    "collapsed": true
   },
   "outputs": [],
   "source": []
  },
  {
   "cell_type": "code",
   "execution_count": null,
   "metadata": {
    "collapsed": true
   },
   "outputs": [],
   "source": []
  },
  {
   "cell_type": "code",
   "execution_count": 6,
   "metadata": {
    "collapsed": false
   },
   "outputs": [
    {
     "name": "stdout",
     "output_type": "stream",
     "text": [
      "18602.5461883\n",
      "17272.4638262\n",
      "11976.4773099\n",
      "15119.3777274\n"
     ]
    }
   ],
   "source": [
    "fig = plt.figure()\n",
    "ax = fig.gca(projection = '3d')\n",
    "\n",
    "t1 = epoch(0)            #relative to t0\n",
    "t2 = epoch(optimal_time1/DAY2YEAR)   #relative to t0\n",
    "dt = (t2.mjd2000 - t1.mjd2000)*DAY2SEC\n",
    "\n",
    "r1, v1 = planetA.eph(t1)\n",
    "r2, v2 = planetB.eph(t2)\n",
    "l = pkp.lambert_problem(r1,r2,dt,mu_star)\n",
    "norm = np.linalg.norm\n",
    "print norm(l.get_v1())\n",
    "print norm(v1)\n",
    "\n",
    "plot_planet(planetA, t0 = epoch(0), legend = True, units = AU, ax = ax)\n",
    "plot_planet(planetB, t0 = epoch(optimal_time1/DAY2YEAR), legend = True, units = AU, ax = ax)\n",
    "\n",
    "for sol in range(l.get_Nmax()+1):\n",
    "    plot_lambert(l, sol = sol, legend=True, units =AU, ax=ax)\n",
    "\n",
    "t1 = epoch(optimal_time1/DAY2YEAR)            #relative to t0\n",
    "t2 = epoch((optimal_time1+optimal_time2)/DAY2YEAR)   #relative to t0\n",
    "dt = (t2.mjd2000 - t1.mjd2000)*DAY2SEC\n",
    "\n",
    "r1, v1 = planetB.eph(t1)\n",
    "r2, v2 = planetC.eph(t2)\n",
    "l = pkp.lambert_problem(r1,r2,dt,mu_star)\n",
    "norm = np.linalg.norm\n",
    "print norm(l.get_v1())\n",
    "print norm(v1)\n",
    "\n",
    "plot_planet(planetB, t0 = t1, legend = True, units = AU, ax = ax)\n",
    "plot_planet(planetC, t0 = t2, legend = True, units = AU, ax = ax)\n",
    "\n",
    "for sol in range(l.get_Nmax()+1):\n",
    "    plot_lambert(l, sol = sol, legend=True, units =AU, ax=ax)\n",
    "\n",
    "plt.show()"
   ]
  },
  {
   "cell_type": "markdown",
   "metadata": {
    "collapsed": true
   },
   "source": [
    "#### Have found a way to get best lambert from one planet to another. Now lets find the best from one to another via a third!\n"
   ]
  }
 ],
 "metadata": {
  "kernelspec": {
   "display_name": "Python 2",
   "language": "python",
   "name": "python2"
  },
  "language_info": {
   "codemirror_mode": {
    "name": "ipython",
    "version": 2
   },
   "file_extension": ".py",
   "mimetype": "text/x-python",
   "name": "python",
   "nbconvert_exporter": "python",
   "pygments_lexer": "ipython2",
   "version": "2.7.12"
  }
 },
 "nbformat": 4,
 "nbformat_minor": 0
}
