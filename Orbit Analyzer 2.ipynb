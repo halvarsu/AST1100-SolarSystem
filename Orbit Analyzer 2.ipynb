{
 "cells": [
  {
   "cell_type": "code",
   "execution_count": 1,
   "metadata": {
    "collapsed": false
   },
   "outputs": [],
   "source": [
    "from LambertSolarSystem import LambertSolarSystem\n",
    "import matplotlib.pyplot as plt\n",
    "from mpl_toolkits.mplot3d import Axes3D \n",
    "from PyKEP import AU, DAY2SEC, DAY2YEAR, MU_SUN, epoch\n",
    "from PyKEP.orbit_plots import plot_planet, plot_lambert\n",
    "import PyKEP as pkp\n",
    "import numpy as np\n",
    "\n",
    "\n",
    "system = LambertSolarSystem(87464)\n",
    "\n",
    "posFunc = system.getPositionsFunction()\n",
    "velFunc = system.getVelocityFunction()"
   ]
  },
  {
   "cell_type": "markdown",
   "metadata": {},
   "source": [
    " # finds the optimal transfer between the planets\n",
    " Takes a start value t and two planets\n"
   ]
  },
  {
   "cell_type": "code",
   "execution_count": 6,
   "metadata": {
    "collapsed": false
   },
   "outputs": [
    {
     "name": "stdout",
     "output_type": "stream",
     "text": [
      "min v 22277.3503102\n",
      "optimal time use: 0.2\n",
      "min v 72795.9299732\n",
      "[ 84550.0169419    3542.72478661      0.        ] [ 13564.44184106 -12590.95266982      0.        ]\n",
      "optimal time use: 8.0\n"
     ]
    }
   ],
   "source": [
    "# ----------------------- First init ---------------------------------------------------\n",
    "SEC2YEAR = 1./DAY2YEAR*DAY2SEC\n",
    "t = 14.32\n",
    "planetsPos0 = posFunc(t)[:]\n",
    "planetsVel0 = velFunc(t)[:]\n",
    "\n",
    "A = 0; B = 4; C = 5\n",
    "planets = np.array((A,B,C))\n",
    "# Add 3. dimension\n",
    "pos0 = np.r_[planetsPos0, [np.zeros(7)]]\n",
    "vel0 = np.r_[planetsVel0, [np.zeros(7)]]\n",
    "rA = pos0[:,A] * AU\n",
    "vA = vel0[:,A] * AU / SEC2YEAR\n",
    "rB = pos0[:,B] * AU\n",
    "vB = vel0[:,B] * AU / SEC2YEAR\n",
    "rC = pos0[:,C] * AU\n",
    "vC = vel0[:,C] * AU / SEC2YEAR\n",
    "\n",
    "mu_star = system.starMass * MU_SUN\n",
    "mu_planet = system.mass[planets]  * MU_SUN\n",
    "radius = system.radius[planets] * 1000\n",
    "safe_radius = radius *1.2\n",
    "\n",
    "planetA = pkp.planet.keplerian(epoch(0), rA, vA, mu_star, mu_planet[0], radius[0], safe_radius[0], 'A')\n",
    "planetB = pkp.planet.keplerian(epoch(0), rB, vB, mu_star, mu_planet[1], radius[1], safe_radius[1], 'B')\n",
    "planetC = pkp.planet.keplerian(epoch(0), rC, vC, mu_star, mu_planet[2], radius[2], safe_radius[2], 'C')\n",
    "\n",
    "res = 10000\n",
    "time_array = np.linspace(0.2,4,10000)\n",
    "time_use_arr = np.zeros_like(time_array)\n",
    "v_arr1 = np.zeros_like(time_array)\n",
    "vBin_arr = np.zeros((res,3))\n",
    "# ----------------------Find best GA-times ----------------------\n",
    "\n",
    "for j,time_use in enumerate(time_array):\n",
    "    t1 = epoch(0)            #relative to t0\n",
    "    t2 = epoch(time_use/DAY2YEAR)   #relative to t0\n",
    "    dt = (t2.mjd2000 - t1.mjd2000)*DAY2SEC\n",
    "\n",
    "\n",
    "    r1, v1 = planetA.eph(t1)\n",
    "    r2, v2 = planetB.eph(t2)\n",
    "    \n",
    "    l = pkp.lambert_problem(r1,r2,dt,mu_star)\n",
    "\n",
    "    #vA = l.get_v1()\n",
    "    vB = np.array(l.get_v2())\n",
    "    vel =  np.linalg.norm(vA) \n",
    "    time_use_arr[j] = time_use\n",
    "    v_arr1[j] =  vel\n",
    "    vBin_arr[j] = vB\n",
    "\n",
    "\n",
    "best_v = np.amin(v_arr1)\n",
    "print 'min v' ,best_v\n",
    "\n",
    "i = np.argmin(v_arr1)\n",
    "vBin = vBin_arr[i]\n",
    "\n",
    "optimal_time1 = time_use_arr[i]\n",
    "print 'optimal time use:', optimal_time1\n",
    "\n",
    "\n",
    "time_array = np.linspace(2,8,res)\n",
    "time_use_arr = np.zeros_like(time_array)\n",
    "v_arr2 = np.zeros_like(time_array)\n",
    "vBout_arr = np.zeros((res,3))\n",
    "\n",
    "for j,time_use in enumerate(time_array):\n",
    "    t1 = epoch(optimal_time1)            #relative to t0\n",
    "    t2 = epoch((optimal_time1+time_use)/DAY2YEAR)   #relative to t0\n",
    "    dt = (t2.mjd2000 - t1.mjd2000)*DAY2SEC\n",
    "\n",
    "\n",
    "    r1, v1 = planetB.eph(t1)\n",
    "    r2, v2 = planetC.eph(t2)\n",
    "    \n",
    "    l = pkp.lambert_problem(r1,r2,dt,mu_star)\n",
    "    \n",
    "    vB = np.array(l.get_v1())[0]\n",
    "    #vC = l.get_v2()\n",
    "    vel =  np.linalg.norm(vB-vBin)\n",
    "    #print vB\n",
    "\n",
    "    vBout_arr[j] = vB\n",
    "    \n",
    "    time_use_arr[j] = time_use\n",
    "    v_arr2[j] =  vel\n",
    "\n",
    "best_v = np.amin(v_arr2)\n",
    "print 'min v' ,best_v\n",
    "\n",
    "i = np.argmin(v_arr2)\n",
    "\n",
    "vBout = vBout_arr[i]\n",
    "print vBin, vBout\n",
    "optimal_time2 = time_use_arr[i]\n",
    "print 'optimal time use:', optimal_time2\n"
   ]
  },
  {
   "cell_type": "code",
   "execution_count": null,
   "metadata": {
    "collapsed": true
   },
   "outputs": [],
   "source": []
  },
  {
   "cell_type": "code",
   "execution_count": 7,
   "metadata": {
    "collapsed": false
   },
   "outputs": [
    {
     "name": "stdout",
     "output_type": "stream",
     "text": [
      "86901.1321421\n",
      "22277.3503102\n"
     ]
    }
   ],
   "source": [
    "fig = plt.figure()\n",
    "ax = fig.gca(projection = '3d')\n",
    "\n",
    "t1 = epoch(0)            #relative to t0\n",
    "t2 = epoch(optimal_time1/DAY2YEAR)   #relative to t0\n",
    "dt = (t2.mjd2000 - t1.mjd2000)*DAY2SEC\n",
    "\n",
    "r1, v1 = planetA.eph(t1)\n",
    "r2, v2 = planetB.eph(t2)\n",
    "l = pkp.lambert_problem(r1,r2,dt,mu_star)\n",
    "norm = np.linalg.norm\n",
    "print norm(l.get_v1())\n",
    "print norm(v1)\n",
    "\n",
    "plot_planet(planetA, t0 = epoch(0), legend = True, units = AU, ax = ax)\n",
    "plot_planet(planetB, t0 = epoch(optimal_time1/DAY2YEAR), legend = True, units = AU, ax = ax)\n",
    "\n",
    "for sol in range(l.get_Nmax()+1):\n",
    "    plot_lambert(l, sol = sol, legend=True, units =AU, ax=ax)"
   ]
  },
  {
   "cell_type": "code",
   "execution_count": 8,
   "metadata": {
    "collapsed": false
   },
   "outputs": [
    {
     "name": "stdout",
     "output_type": "stream",
     "text": [
      "26370.8520576\n",
      "17409.220093\n"
     ]
    }
   ],
   "source": [
    "t1 = epoch(optimal_time1/DAY2YEAR)            #relative to t0\n",
    "t2 = epoch((optimal_time1+optimal_time2)/DAY2YEAR)   #relative to t0\n",
    "dt = (t2.mjd2000 - t1.mjd2000)*DAY2SEC\n",
    "\n",
    "r1, v1 = planetB.eph(t1)\n",
    "r2, v2 = planetC.eph(t2)\n",
    "l = pkp.lambert_problem(r1,r2,dt,mu_star)\n",
    "norm = np.linalg.norm\n",
    "print norm(l.get_v1())\n",
    "print norm(v1)\n",
    "\n",
    "plot_planet(planetB, t0 = t1, legend = True, units = AU, ax = ax)\n",
    "plot_planet(planetC, t0 = t2, legend = True, units = AU, ax = ax)\n",
    "\n",
    "for sol in range(l.get_Nmax()+1):\n",
    "    plot_lambert(l, sol = sol, legend=True, units =AU, ax=ax)\n",
    "\n",
    "plt.show()"
   ]
  },
  {
   "cell_type": "markdown",
   "metadata": {
    "collapsed": true
   },
   "source": [
    "#### Have found a way to get best lambert from one planet to another. Now lets find the best from one to another via a third!\n"
   ]
  }
 ],
 "metadata": {
  "kernelspec": {
   "display_name": "Python 2",
   "language": "python",
   "name": "python2"
  },
  "language_info": {
   "codemirror_mode": {
    "name": "ipython",
    "version": 2
   },
   "file_extension": ".py",
   "mimetype": "text/x-python",
   "name": "python",
   "nbconvert_exporter": "python",
   "pygments_lexer": "ipython2",
   "version": "2.7.12"
  }
 },
 "nbformat": 4,
 "nbformat_minor": 0
}
