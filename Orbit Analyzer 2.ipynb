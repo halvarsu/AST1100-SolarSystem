{
 "cells": [
  {
   "cell_type": "code",
   "execution_count": 2,
   "metadata": {
    "collapsed": false
   },
   "outputs": [],
   "source": [
    "from LambertSolarSystem import LambertSolarSystem\n",
    "import matplotlib.pyplot as plt\n",
    "from mpl_toolkits.mplot3d import Axes3D \n",
    "from PyKEP import AU, DAY2SEC, DAY2YEAR, MU_SUN, epoch\n",
    "from PyKEP.orbit_plots import plot_planet, plot_lambert\n",
    "import PyKEP as pkp\n",
    "import numpy as np\n",
    "\n",
    "\n",
    "system = LambertSolarSystem(87464)\n",
    "\n",
    "posFunc = system.getPositionsFunction()\n",
    "velFunc = system.getVelocityFunction()"
   ]
  },
  {
   "cell_type": "markdown",
   "metadata": {},
   "source": [
    " # finds the optimal transfer between the planets\n",
    " Takes a start value t and two planets\n"
   ]
  },
  {
   "cell_type": "code",
   "execution_count": 4,
   "metadata": {
    "collapsed": false
   },
   "outputs": [
    {
     "name": "stdout",
     "output_type": "stream",
     "text": [
      "min v 17949.5899151\n",
      "optimal time use: 4.1\n",
      "18563.5168344\n",
      "17244.8887894\n"
     ]
    }
   ],
   "source": [
    "#first_boost = 9594\n",
    "\n",
    "#vel_at_closest = 0\n",
    "\n",
    "SEC2YEAR = 1./DAY2YEAR*DAY2SEC\n",
    "t = 17.32\n",
    "A = 4; B = 5\n",
    "planets = np.array((A,B))\n",
    "\n",
    "\n",
    "planetsPos0 = posFunc(t)[:]\n",
    "planetsVel0 = velFunc(t)[:]\n",
    "# Add 3. dimension\n",
    "pos0 = np.r_[planetsPos0, [np.zeros(7)]]\n",
    "vel0 = np.r_[planetsVel0, [np.zeros(7)]]\n",
    "rA = pos0[:,A] * AU\n",
    "vA = vel0[:,A] * AU / SEC2YEAR\n",
    "rB = pos0[:,B] * AU\n",
    "vB = vel0[:,B] * AU / SEC2YEAR\n",
    "\n",
    "    \n",
    "mu_star = system.starMass * MU_SUN\n",
    "mu_planet = system.mass[planets]  * MU_SUN\n",
    "radius = system.radius[planets] * 1000\n",
    "safe_radius = radius *1.2\n",
    "\n",
    "planetA = pkp.planet.keplerian(epoch(0), rA, vA, mu_star, mu_planet[0], radius[0], safe_radius[0], 'four')\n",
    "planetB = pkp.planet.keplerian(epoch(0), rB, vB, mu_star, mu_planet[1], radius[1], safe_radius[1], 'five')\n",
    "\n",
    "time_array = np.linspace(4.1,8,10000)\n",
    "v_list = []\n",
    "# ----------------------Find best lambert sol ----------------------\n",
    "\n",
    "for time_use in time_array:\n",
    "    t1 = epoch(0)            #relative to t0\n",
    "    t2 = epoch(time_use/DAY2YEAR)   #relative to t0\n",
    "    dt = (t2.mjd2000 - t1.mjd2000)*DAY2SEC\n",
    "\n",
    "\n",
    "    r1, v1 = planetA.eph(t1)\n",
    "    r2, v2 = planetB.eph(t2)\n",
    "    \n",
    "    l = pkp.lambert_problem(r1,r2,dt,mu_star)\n",
    "\n",
    "    vA = l.get_v1()\n",
    "    vB = l.get_v2()\n",
    "    vel =  np.linalg.norm(vA) \n",
    "    v_list.append((vel,time_use))\n",
    "    \n",
    "v_list = np.array(v_list)\n",
    "best_time = np.amin(v_list, axis = 0) #contains [v, t]\n",
    "print 'min v' ,best_time[0]\n",
    "\n",
    "i = np.argmin(v_list, axis = 0)[0]\n",
    "optimal_time = best_time[1]\n",
    "print 'optimal time use:', optimal_time\n",
    "fig = plt.figure()\n",
    "ax = fig.gca(projection = '3d')\n",
    "\n",
    "t1 = epoch(0)            #relative to t0\n",
    "t2 = epoch(best_time[1]/DAY2YEAR)   #relative to t0\n",
    "dt = (t2.mjd2000 - t1.mjd2000)*DAY2SEC\n",
    "\n",
    "r1, v1 = planetA.eph(t1)\n",
    "r2, v2 = planetB.eph(t2)\n",
    "l = pkp.lambert_problem(r1,r2,dt,mu_star)\n",
    "norm = np.linalg.norm\n",
    "print norm(l.get_v1())\n",
    "print norm(v1)\n",
    "\n",
    "plot_planet(planetA, t0 = epoch(0), legend = True, units = AU, ax = ax)\n",
    "plot_planet(planetB, t0 = epoch(optimal_time/DAY2YEAR), legend = True, units = AU, ax = ax)\n",
    "plot_lambert(l, legend=True, units =AU, ax=ax)\n",
    "plt.show()"
   ]
  },
  {
   "cell_type": "code",
   "execution_count": null,
   "metadata": {
    "collapsed": true
   },
   "outputs": [],
   "source": []
  }
 ],
 "metadata": {
  "kernelspec": {
   "display_name": "Python 2",
   "language": "python",
   "name": "python2"
  },
  "language_info": {
   "codemirror_mode": {
    "name": "ipython",
    "version": 2
   },
   "file_extension": ".py",
   "mimetype": "text/x-python",
   "name": "python",
   "nbconvert_exporter": "python",
   "pygments_lexer": "ipython2",
   "version": "2.7.12"
  }
 },
 "nbformat": 4,
 "nbformat_minor": 0
}
