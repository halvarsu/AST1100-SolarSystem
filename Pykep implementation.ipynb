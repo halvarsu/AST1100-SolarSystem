{
 "cells": [
  {
   "cell_type": "code",
   "execution_count": 13,
   "metadata": {
    "collapsed": false
   },
   "outputs": [],
   "source": [
    "import PyKEP as pkp\n",
    "from PyKEP import epoch, AU, MU_SUN, DEG2RAD, lambert_problem, DAY2SEC, DAY2YEAR\n",
    "from PyKEP.orbit_plots import plot_planet, plot_lambert\n",
    "import numpy as np\n",
    "from MySateliteSim import MySateliteSim\n",
    "import matplotlib as mpl\n",
    "import matplotlib.pyplot as plt\n",
    "\n",
    "\n",
    "\n",
    "\n",
    "system = MySateliteSim(87464)\n",
    "def init_planet(planet):\n",
    "    x0 = system.x0[planet]\n",
    "    y0 = system.y0[planet]\n",
    "\n",
    "    e = system.e[planet]\n",
    "    a = system.a[planet]\n",
    "    b = a*np.sqrt(1-e**2)\n",
    "    M = np.arctan(x0*b/(y0*a)) - e*x0/a\n",
    "    i = 0.00001\n",
    "    W = 0.00001\n",
    "    w = system.psi[planet]\n",
    "    mu_star = system.starMass * MU_SUN\n",
    "    mu_planet = system.mass[planet] * MU_SUN\n",
    "    radius = system.radius[planet] * 1000\n",
    "    safe_radius = radius + 100000\n",
    "    return pkp.planet.keplerian(epoch(0), np.array((a*AU, e, i, W, w, M)), mu_star, mu_planet, radius, safe_radius, 'home')\n",
    "#home = init_planet(0)\n",
    "#a is the semi-major axis, \n",
    "#e the eccentriciy, \n",
    "#i the inclination, \n",
    "#W the Right Axcension of the Acending Node, \n",
    "#w the argument of perigee \n",
    "#M the mean anomaly \n",
    "\n"
   ]
  },
  {
   "cell_type": "code",
   "execution_count": 18,
   "metadata": {
    "collapsed": false
   },
   "outputs": [],
   "source": [
    "from mpl_toolkits.mplot3d import Axes3D\n",
    "\n",
    "fig = plt.figure()\n",
    "axis = fig.gca(projection = \"3d\")\n",
    "\n",
    "t1 = epoch(14.32/DAY2YEAR)\n",
    "t2 = epoch(17.32/DAY2YEAR)\n",
    "dt = (t2.mjd2000 - t1.mjd2000)*DAY2SEC\n",
    "\n",
    "planet1 = init_planet(0)\n",
    "plot_planet(planet1, t0=t1, legend=True, units = AU, ax = axis)\n",
    "planet4 = init_planet(4)\n",
    "plot_planet(planet4, t0=t2, legend=True, units = AU, ax = axis)\n",
    "\n",
    "rH, vH = planet1.eph(t1)\n",
    "rT, vT = planet4.eph(t2)\n",
    "\n",
    "mu_star = system.starMass * MU_SUN\n",
    "l = lambert_problem(rH, rT, dt, mu_star)\n",
    "plot_lambert(l, legend=True, units = AU, ax = axis)\n",
    "plt.show()"
   ]
  },
  {
   "cell_type": "code",
   "execution_count": 30,
   "metadata": {
    "collapsed": false
   },
   "outputs": [
    {
     "name": "stdout",
     "output_type": "stream",
     "text": [
      "[ 0.          0.04554273  1.79075859  3.44648978  2.13146297  5.27493537\n",
      "  4.41729641]\n",
      "[ 0.          5.31983772  0.91036524  1.65848031  0.75800604  0.29551564\n",
      "  2.07347334]\n",
      "[ 0.          5.27429498  5.40279196  4.49517584  4.90972837  1.30376557\n",
      "  3.93936224]\n"
     ]
    }
   ],
   "source": [
    "print system.psi\n",
    "print system.omega\n",
    "planet = 1\n",
    "psi0 = system.psi[planet]; omega0 = system.omega[planet]\n",
    "true_anomaly = system.omega - system.psi\n",
    "true_anomaly[true_anomaly < 0] += 2*np.pi\n",
    "print true_anomaly\n",
    "r = np.array((np.cos(psi0), np.sin(psi0)))\n",
    "r2 = np.array((np.cos(omega0),np.sin(omega0)))\n",
    "pos3 = np.array((system.x0,system.y0)).T\n",
    "r3 = pos3[planet]/np.linalg.norm(pos3[planet])              \n",
    "\n",
    "y_o = system.y0[planet] /np.linalg.norm(system.y0[planet])\n",
    "\n",
    "plt.plot((0,r[0]),(0,r[1]))\n",
    "plt.plot((0,r2[0]),(0,r2[1]))\n",
    "plt.scatter((0,r3[0]),(0,r3[1]))\n",
    "plt.legend(['psi','omega'])\n",
    "plt.axis('equal')\n",
    "plt.show()"
   ]
  }
 ],
 "metadata": {
  "kernelspec": {
   "display_name": "Python 2",
   "language": "python",
   "name": "python2"
  },
  "language_info": {
   "codemirror_mode": {
    "name": "ipython",
    "version": 2
   },
   "file_extension": ".py",
   "mimetype": "text/x-python",
   "name": "python",
   "nbconvert_exporter": "python",
   "pygments_lexer": "ipython2",
   "version": "2.7.12"
  }
 },
 "nbformat": 4,
 "nbformat_minor": 0
}
