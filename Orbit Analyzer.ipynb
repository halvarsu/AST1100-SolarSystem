{
 "cells": [
  {
   "cell_type": "code",
   "execution_count": 101,
   "metadata": {
    "collapsed": false
   },
   "outputs": [
    {
     "name": "stdout",
     "output_type": "stream",
     "text": [
      "min v [ 13.36805209   0.1       ]\n",
      "optimal time use: 0.5996996997\n"
     ]
    }
   ],
   "source": [
    "from LambertSolarSystem import LambertSolarSystem\n",
    "import matplotlib.pyplot as plt\n",
    "from mpl_toolkits.mplot3d import Axes3D \n",
    "from PyKEP import AU, DAY2SEC, DAY2YEAR, MU_SUN, epoch\n",
    "from PyKEP.orbit_plots import plot_planet, plot_lambert\n",
    "import PyKEP as pkp\n",
    "import numpy as np\n",
    "\n",
    "first_boost = 9594\n",
    "\n",
    "\n",
    "\n",
    "vel_at_closest = 0\n",
    "SEC2YEAR = 1./DAY2YEAR*DAY2SEC\n",
    "\n",
    "system = LambertSolarSystem(87464)\n",
    "t = 14.32\n",
    "A = 0; B = 1\n",
    "planets = np.array((A,B))\n",
    "a, e, i, W, w, M  = system.getKeplerianElements()[:,planets]\n",
    "M = system.getM(t)[planets]\n",
    "posFunc = system.getPositionsFunction()\n",
    "\n",
    "kep_elements = np.array((a*AU,e,i,W,w,M))\n",
    "\n",
    "mu_star = system.starMass * MU_SUN\n",
    "mu_planet = system.mass[planets]  * MU_SUN\n",
    "radius = system.radius[planets] * 1000\n",
    "safe_radius = radius *1.2\n",
    "planetA = pkp.planet.keplerian(epoch(0), kep_elements[:,0], mu_star, mu_planet[0], radius[0], safe_radius[0], 'four')\n",
    "planetB = pkp.planet.keplerian(epoch(0), kep_elements[:,1], mu_star, mu_planet[1], radius[1], safe_radius[1], 'five')\n",
    "\n",
    "time_array = np.linspace(0.1,4,1000)\n",
    "v_list = []\n",
    "for time_use in time_array:\n",
    "    t1 = epoch(0)            #relative to t0\n",
    "    t2 = epoch(time_use/DAY2YEAR)   #relative to t0\n",
    "    dt = (t2.mjd2000 - t1.mjd2000)*DAY2SEC\n",
    "\n",
    "\n",
    "    r1, v1 = planetA.eph(t1)\n",
    "    r2, v2 = planetB.eph(t2)\n",
    "    \n",
    "    l = pkp.lambert_problem(r1,r2,dt,mu_star)\n",
    "\n",
    "    v1 = l.get_v1()\n",
    "    vel =  np.linalg.norm(v1)/1000\n",
    "    v_list.append((vel,time_use))\n",
    "v_list = np.array(v_list)\n",
    "print 'min v' ,np.amin(v_list, axis = 0)\n",
    "i = np.argmin(v_list, axis = 0)[0]\n",
    "optimal_time = v_list[i,1]\n",
    "print 'optimal time use:', v_list[i,1]\n",
    "fig = plt.figure()\n",
    "ax = fig.gca(projection = '3d')\n",
    "\n",
    "plot_planet(planetA, t0 = epoch(0), legend = True, units = AU, ax = ax)\n",
    "plot_planet(planetB, t0 = epoch(optimal_time/DAY2YEAR), legend = True, units = AU, ax = ax)\n",
    "plot_lambert(l, legend=True, units =AU, ax=ax)\n",
    "plt.show()\n"
   ]
  },
  {
   "cell_type": "code",
   "execution_count": 88,
   "metadata": {
    "collapsed": false
   },
   "outputs": [
    {
     "name": "stdout",
     "output_type": "stream",
     "text": [
      "[  3.03725975e+10   7.12047806e+11   0.00000000e+00]\n",
      "[  2.86988696e+10   7.12122367e+11]\n",
      "[-17738.6507897   -2729.29052777] [-17228.76052369    745.65419262]\n",
      "[-13104.50809915    310.58521072]\n"
     ]
    }
   ],
   "source": [
    "t1 = epoch(0)            #relative to t0\n",
    "t2 = epoch(optimal_time/DAY2YEAR)   #relative to t0\n",
    "dt = (t2.mjd2000 - t1.mjd2000)*DAY2SEC\n",
    "\n",
    "\n",
    "r1, v1 = planetA.eph(t1)\n",
    "r2, v2 = planetB.eph(t2)\n",
    "\n",
    "l = pkp.lambert_problem(r1,r2,dt,mu_star)\n",
    "\n",
    "v1 = np.array(l.get_v1())\n",
    "posFunc = system.getPositionsFunction()\n",
    "velFunc = system.getVelocityFunction()\n",
    "\n",
    "planetPosA = posFunc(t)[:,4]\n",
    "planetVelA = velFunc(t)[:,4]\n",
    "planetPosB = posFunc(t+optimal_time)[:,5]\n",
    "planetVelB = velFunc(t+optimal_time)[:,5]\n",
    "\n",
    "first_pos   = np.load('data/pos%d.npy' %first_boost)\n",
    "first_times = np.load('data/times%d.npy' %first_boost)\n",
    "first_vel   = np.load('data/vel%d.npy' %first_boost)\n",
    "planet4_positions = posFunc(first_times)[:,4]\n",
    "rel_pos = planet4_positions - first_pos.T\n",
    "rel_r = np.linalg.norm(rel_pos, axis = 0)\n",
    "closest_i = np.argmin(rel_r)\n",
    "pos_cl = first_pos[closest_i] \n",
    "vel_cl = first_vel[closest_i] \n",
    "\n",
    "print np.array(r1)\n",
    "print planetPosA * AU\n",
    "print v1[0,0:2], planetVelA*AU/SEC2YEAR\n",
    "print vel_cl*AU/SEC2YEAR"
   ]
  }
 ],
 "metadata": {
  "kernelspec": {
   "display_name": "Python 2",
   "language": "python",
   "name": "python2"
  },
  "language_info": {
   "codemirror_mode": {
    "name": "ipython",
    "version": 2
   },
   "file_extension": ".py",
   "mimetype": "text/x-python",
   "name": "python",
   "nbconvert_exporter": "python",
   "pygments_lexer": "ipython2",
   "version": "2.7.12"
  }
 },
 "nbformat": 4,
 "nbformat_minor": 0
}
