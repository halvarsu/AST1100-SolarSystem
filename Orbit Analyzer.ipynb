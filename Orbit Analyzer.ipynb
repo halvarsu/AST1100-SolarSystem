{
 "cells": [
  {
   "cell_type": "code",
   "execution_count": 38,
   "metadata": {
    "collapsed": false
   },
   "outputs": [
    {
     "name": "stdout",
     "output_type": "stream",
     "text": [
      "[ 17.325335   5.      ]\n",
      "optimal time use: 6.23232323232\n"
     ]
    }
   ],
   "source": [
    "from LambertSolarSystem import LambertSolarSystem\n",
    "from PyKEP import AU, DAY2SEC, DAY2YEAR, MU_SUN, epoch\n",
    "import PyKEP as pkp\n",
    "import numpy as np\n",
    "\n",
    "first_boost = 9594\n",
    "#first_pos   = np.load('data/pos9594')\n",
    "#first_times = np.load('data/times9594')\n",
    "#first_vel   = np.load('data/vel9594')\n",
    "\n",
    "vel_at_closest = 0\n",
    "SEC2YEAR = 1./DAY2YEAR*DAY2SEC\n",
    "\n",
    "system = LambertSolarSystem(87464)\n",
    "t = 14.32\n",
    "A = 4; B = 5\n",
    "planets = np.array((A,B))\n",
    "a, e, i, W, w, M  = system.getKeplerianElements()[:,planets]\n",
    "M = system.getM(t)[planets]\n",
    "kep_elements = np.array((a*AU,e,i,W,w,M))\n",
    "\n",
    "mu_star = system.starMass * MU_SUN\n",
    "mu_planet = system.mass[planets]  * MU_SUN\n",
    "radius = system.radius[planets] * 1000\n",
    "safe_radius = radius *1.2\n",
    "planetA = pkp.planet.keplerian(epoch(0), kep_elements[:,0], mu_star, mu_planet[0], radius[0], safe_radius[0], 'four')\n",
    "planetB = pkp.planet.keplerian(epoch(0), kep_elements[:,1], mu_star, mu_planet[1], radius[1], safe_radius[1], 'five')\n",
    "\n",
    "time_array = np.linspace(5,7,100)\n",
    "v_list = []\n",
    "for time_use in time_array:\n",
    "    t1 = epoch(0)            #relative to t0\n",
    "    t2 = epoch(time_use/DAY2YEAR)   #relative to t0\n",
    "    dt = (t2.mjd2000 - t1.mjd2000)*DAY2SEC\n",
    "\n",
    "\n",
    "    r1, v1 = planetA.eph(t1)\n",
    "    r2, v2 = planetB.eph(t2)\n",
    "    \n",
    "    l = pkp.lambert_problem(r1,r2,dt,mu_star)\n",
    "\n",
    "    v1 = l.get_v1()\n",
    "    vel =  np.linalg.norm(v1)/1000\n",
    "    v_list.append((vel,time_use))\n",
    "v_list = np.array(v_list)\n",
    "print np.amin(v_list, axis = 0)\n",
    "i = np.argmin(v_list, axis = 0)[0]\n",
    "optimal_time = v_list[i,1]\n",
    "print 'optimal time use:', v_list[i,1]\n",
    "\n"
   ]
  },
  {
   "cell_type": "code",
   "execution_count": 71,
   "metadata": {
    "collapsed": false
   },
   "outputs": [
    {
     "name": "stdout",
     "output_type": "stream",
     "text": [
      "[  5.02073721e+11  -4.96073322e+11   0.00000000e+00]\n",
      "[  4.99572182e+11  -4.98586299e+11]\n",
      "[  7117.80101288  15795.70009767]\n"
     ]
    }
   ],
   "source": [
    "t1 = epoch(0)            #relative to t0\n",
    "t2 = epoch(optimal_time/DAY2YEAR)   #relative to t0\n",
    "dt = (t2.mjd2000 - t1.mjd2000)*DAY2SEC\n",
    "\n",
    "\n",
    "r1, v1 = planetA.eph(t1)\n",
    "r2, v2 = planetB.eph(t2)\n",
    "\n",
    "l = pkp.lambert_problem(r1,r2,dt,mu_star)\n",
    "\n",
    "v1 = np.array(l.get_v1())\n",
    "posFunc = system.getPositionsFunction()\n",
    "velFunc = system.getVelocityFunction()\n",
    "\n",
    "planetPosA = posFunc(t)[:,4]\n",
    "planetVelA = velFunc(t)[:,4]\n",
    "planetPosB = posFunc(t+optimal_time)[:,5]\n",
    "planetVelB = velFunc(t+optimal_time)[:,5]\n",
    "print np.array(r1)\n",
    "print planetPosA * AU\n",
    "print v1[0,0:2], planetVelA"
   ]
  },
  {
   "cell_type": "code",
   "execution_count": null,
   "metadata": {
    "collapsed": true
   },
   "outputs": [],
   "source": []
  }
 ],
 "metadata": {
  "kernelspec": {
   "display_name": "Python 2",
   "language": "python",
   "name": "python2"
  },
  "language_info": {
   "codemirror_mode": {
    "name": "ipython",
    "version": 2
   },
   "file_extension": ".py",
   "mimetype": "text/x-python",
   "name": "python",
   "nbconvert_exporter": "python",
   "pygments_lexer": "ipython2",
   "version": "2.7.12"
  }
 },
 "nbformat": 4,
 "nbformat_minor": 0
}
